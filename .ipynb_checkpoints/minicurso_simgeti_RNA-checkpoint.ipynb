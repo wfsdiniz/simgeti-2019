{
 "cells": [
  {
   "cell_type": "markdown",
   "metadata": {},
   "source": [
    "# Construindo uma RNA para reconhecimento de dígitos\n",
    "\n",
    "Agora que conhecemos os conceitos teóricos das RNAs, vamos colocá-los em prática, construindo uma RNA para o reconhecimento de dígitos manuscritos e digitalizados.  Por que vamos começar com este tipo de tarefa? Porque ela permite percorrer todas as etapas e procedimentos matemáticos de uma rede neural, sendo portanto uma excelente introdução.\n",
    "\n",
    "Antes de pensar em escrever sua primeira linha de código, é preciso definir claramente o problema a ser resolvido. A tecnologia existe para resolver problemas e a definição clara do objetivo é o ponto de partida de qualquer projeto de sucesso. Desta forma, vamos começar definindo os dados de entrada do classificador.\n",
    "\n",
    "Podemos dividir o problema de reconhecer os dígitos manuscritos em dois sub-problemas. Primeiro, precisamos encontrar uma maneira de quebrar uma imagem que contenha muitos dígitos em uma sequência de imagens separadas, cada uma contendo um único dígito. Por exemplo, gostaríamos de quebrar a imagem:\n",
    "\n",
    "![](rawdigits.png)\n",
    "\n",
    "Em dígitos individuais, mais ou menos assim:\n",
    "\n",
    "![](digits_separate.png)\n",
    "\n",
    "Humanos resolvem esse problema de segmentação com facilidade, mas é um desafio para um programa de computador dividir corretamente a imagem. Uma vez que a imagem foi segmentada, o programa precisa classificar cada dígito individual. Então, por exemplo, gostaríamos que nosso programa reconhecesse automaticamente que o primeiro dígito acima é um 5.\n",
    "\n",
    "Vamos nos concentrar em escrever um programa para resolver o segundo problema, isto é, classificar dígitos individuais. O problema da segmentação não é tão difícil de resolver, uma vez que você tenha uma boa maneira de classificar os dígitos individuais. Existem muitas abordagens para resolver o problema de segmentação. Uma abordagem é testar muitas maneiras diferentes de segmentar a imagem, usando o classificador de dígitos individuais para marcar cada segmentação de teste. Uma segmentação de teste obtém uma pontuação alta se o classificador de dígitos individuais estiver confiante de sua classificação em todos os segmentos e uma pontuação baixa se o classificador tiver muitos problemas em um ou mais segmentos. A ideia é que, se o classificador estiver tendo problemas em algum lugar, provavelmente está tendo problemas porque a segmentação foi escolhida incorretamente. Essa ideia e outras variações podem ser usadas para resolver o problema de segmentação. Então, em vez de se preocupar com a segmentação, nos concentraremos no desenvolvimento de uma rede neural que pode resolver o problema mais interessante e difícil, ou seja, reconhecer dígitos individuais manuscritos.\n",
    "\n",
    "Para reconhecer dígitos individuais, usaremos uma rede neural de três camadas. Vamos começar definindo que cada digito será segmentado em uma imagem com $28 \\times 28$ pixels, de forma a resultar em um total de $784$ pixels por imagem. Vamos definir nossa camada de entrada mapeando cada pixel, ou seja, teremos 784 neurônios na primeira camada. O valor de entrada de cada neurônio será a cor do pixel correspondente em escala de cinza, devendo variar entre 0.0 e 1.0, onde 0.0 representa a cor branca e 1.0 a cor preta e valores entre estes, gradações de cinza.\n",
    "\n",
    "Em seguida, adicionaremos uma camada oculta, cujo número de neurônios, chamaremos de $n$. Vamos testar várias configurações de $n$, para observar qual dará o melhor resultado. Vamos definir arbitrariamente o valor $n = 15$, inicialmente.\n",
    "\n",
    "Finalmente, vamos definir nossa camada de saída. Como temos 10 possíveis dígitos (0 a 9), vamos também usar 10 neurônios na camada de saída. Numeraremos cada neurônio, de forma que, se, por exemplo, o neurônio 3 possua o maior sinal de ativação, significa que o dígito foi reconhecido como um 3 e assim por diante. A definição da quantidade de neurônios de saída não segue uma regra simples, mas é sim baseada em herísticas que foram definidas empiricamente. Por exemplo, podemos pensar que 4 neurônios de saída seriam suficientes para codificar os 10 dígitos, uma vez que $2^4 = 16$. Entretanto, verifica-se que para este caso, uma rede com 10 neurônios de saída aprende melhor do que uma com 4. A justificativa final é empírica: podemos experimentar ambos os projetos de rede, e verifica-se que, para este problema específico, a rede com 10 neurônios de saída aprende a reconhecer dígitos melhor do que a rede com 4 neurônios de saída. Mas isso ainda deixa a pergunta por que o uso de 10 neurônios de saída funciona melhor. Por exemplo, podemos ter certos neurônios na camada oculta ligados ao reconhecimento de partes individuais de cada dígito. A combinação da ativação desses neurônios dá o dígito reconhecido.\n",
    "\n",
    "A rede resultante terá esta configuração:\n",
    "\n",
    "![](digits_arch_black.png)\n",
    "\n",
    "Agora que já temos a arquitetura da rede neural, precisamos definir como será o processo de aprendizagem do algoritmo, antes de começar a codificar."
   ]
  },
  {
   "cell_type": "markdown",
   "metadata": {},
   "source": [
    "## Aprendizado com gradiente descendente\n",
    "\n",
    "A primeira coisa que precisamos é um conjunto de dados para o treinamento da rede. Usaremos o conjunto de dados [MNIST](http://yann.lecun.com/exdb/mnist/), que contém dezenas de milhares de imagens digitalizadas de dígitos manuscritos, juntamente com suas classificações corretas. O nome MNIST vem do fato de que é um subconjunto modificado de dois conjuntos de dados coletados pelo NIST, o Instituto Nacional de Padrões e Tecnologia dos Estados Unidos. Aqui estão algumas imagens do MNIST:\n",
    "\n",
    "![](digits_separate.png)\n",
    "\n",
    "Estes dados foram coletados a partir da digitalização de manuscritos de 250 pessoas, metade funcionários do Bureau do Censo dos EUA e metade estudantes do ensino médio. As imagens estão em escala de cinza e 28 por 28 pixels de tamanho. A base está dividida em duas partes, sendo a primeira um conjunto de treinamento com 60k amostras e a segunda um conjunto de teste com 10k amostras. O conjunto de teste é formado por coletas de 250 pessoas diferentes em relação às que participam do conjunto de treinamento. Desta forma, garantimos que a rede consegue reconhecer uma caligrafia que não viu durante o treinamento (que é o que desejamos que ela faça!).\n",
    "\n",
    "Usaremos a notação x para indicar uma entrada (input) de treinamento. Será conveniente considerar cada entrada de treinamento x (cada imagem) como um vetor de 784 posições (28 x 28 pixels). A imagem abaixo representa como este vetor é construído:\n",
    "\n",
    "![](pixels.png)\n",
    "\n",
    "Cada entrada no vetor representa o valor de cinza para um único pixel na imagem. Vamos indicar a saída correspondente desejada por $y = y(x)$, onde $y$ é um vetor com dimensão 10. Por exemplo, se uma imagem de treinamento particular, $x$, representa um 3, então $y(x) = (0,0,0,1,0,0,0,0,0,0)^T$ é a saída desejada da rede . Observe que T aqui é a operação de transposição, transformando um vetor de linha em um vetor comum (coluna).\n",
    "\n",
    "O que queremos é um algoritmo que nos permita encontrar pesos e bias para que a saída da rede se aproxime de $y(x)$ para todas as entradas de treinamento $x$. Para quantificar o quão bem estamos alcançando esse objetivo, precisamos definir uma função de custo, como esta:\n",
    "\n",
    "$$\n",
    "C(w,b) \\equiv \\frac{1}{2n}\\sum^{ }_{x}{\\left \\| y(x) - a \\right \\|}^2\n",
    "$$\n",
    "\n",
    "Na fórmula acima, $w$ indica a coleta de todos os pesos na rede, $b$ todos os bias (viés), $n$ é o número total de entradas de treinamento, $a$ é o vetor de saídas da rede (quando $x$ é entrada, ou seja o valor desejado) e a soma é sobre todas as entradas de treinamento $x$.\n",
    "\n",
    "A notação $\\left \\| v \\right \\|$ apenas indica a função de comprimento usual para um vetor $v$. Chamaremos $C$ a função de custo quadrático, que também é conhecido como o erro quadrático médio ou apenas o MSE (Mean Squared Error). Inspecionando a forma da função de custo quadrático, vemos que $C (w, b)$ não é negativo, pois cada termo na soma não é negativo. Além disso, o custo $C (w, b)$ torna-se pequeno, isto é, $C (w, b) ≈ 0$, precisamente quando $y(x)$ é aproximadamente igual à saída, a, para todas as entradas de treinamento $x$.\n",
    "\n",
    "Portanto, nosso algoritmo de treinamento faz um bom trabalho se ele pode encontrar um conjunto de pesos e bias que faça com que $C (w, b) ≈ 0$. Isso significa basicamente que nosso modelo fez as previsões corretas, ou seja, cada vez que apresentamos ao modelo uma imagem com dígito 3, ele é capaz de reconhecer que se trata do número 3."
   ]
  },
  {
   "cell_type": "markdown",
   "metadata": {},
   "source": [
    "### O Gradiente Descendente\n",
    "\n",
    "A maioria das tarefas em Aprendizado de Máquina são na verdade problemas de otimização e um dos algoritmos mais usados para isso é o Algoritmo de Descida do Gradiente (ou Gradiente Descendente). Para um iniciante, o nome Algoritmo de Descida do Gradiente pode parecer intimidante, mas espero que depois de ler o que está logo abaixo, isso deixe de ser um mistério para você.\n",
    "\n",
    "A Descida do Gradiente é uma ferramenta padrão para otimizar funções complexas iterativamente dentro de um programa de computador. Seu objetivo é: dada alguma função arbitrária, encontrar um mínimo. Para alguns pequenos subconjuntos de funções – aqueles que são convexos – há apenas um único mínimo que também acontece de ser global. Para as funções mais realistas, pode haver muitos mínimos, então a maioria dos mínimos são locais. Certifique-se de que a otimização encontre o “melhor” mínimo e não fique preso em mínimos sub-otimistas (um problema comum durante o treinamento do algoritmo).\n",
    "\n",
    "Para compreender a intuição da Descida do Gradiente, vamos simplificar um pouco as coisas. Vamos imaginar que simplesmente recebemos uma função de muitas variáveis e queremos minimizar essa função.\n",
    "\n",
    "Há uma analogia que nos ajuda a compreender como encontrar a solução. Começamos por pensar em nossa função como uma espécie de vale e imaginamos uma bola rolando pela encosta do vale, conforme pode ser visto na figura abaixo. Nossa experiência diária nos diz que a bola acabará rolando para o fundo do vale. Talvez possamos usar essa ideia como forma de encontrar um mínimo para a função? Escolheríamos aleatoriamente um ponto de partida para uma bola (imaginária), e então simularíamos o movimento da bola enquanto ela rola até o fundo do vale. Poderíamos fazer essa simulação simplesmente por derivadas de computação da função C – essas derivadas nos diriam tudo o que precisamos saber sobre a “forma” local do vale, e, portanto, como nossa bola deve rolar.\n",
    "\n",
    "![](ball.png)\n",
    "\n",
    "Ou seja, a Descida do Gradiente é um algoritmo de otimização usado para encontrar os valores de parâmetros (coeficientes ou se preferir w e b – weight e bias) de uma função que minimizam uma função de custo. A Descida do Gradiente é melhor usada quando os parâmetros não podem ser calculados analiticamente (por exemplo, usando álgebra linear) e devem ser pesquisados por um algoritmo de otimização.\n",
    "\n",
    "O procedimento começa com valores iniciais para o coeficiente ou coeficientes da função. Estes poderiam ser 0.0 ou um pequeno valor aleatório (a inicialização dos coeficiente é parte crítica do processo e diversas técnicas podem ser usadas, ficando a escolha a cargo do Cientista de Dados e do problema a ser resolvido com o modelo). Poderíamos iniciar assim nossos coeficientes (valores de w e b):\n",
    "\n",
    "$$\n",
    "w = 0.0\n",
    "$$\n",
    "\n",
    "O custo dos coeficientes é avaliado ligando-os à função e calculando o custo para uma entrada $x$. \n",
    "\n",
    "$$C(x_i) = f(coeficiente)$$\n",
    "\n",
    "ou\n",
    "\n",
    "$$C(x_i) = avaliar(f(coeficiente))$$\n",
    "\n",
    "A derivada do custo é calculada. A derivada é um conceito de Cálculo e refere-se à inclinação da função em um determinado ponto. Precisamos conhecer a inclinação para que possamos conhecer a direção (sinal) para mover os valores dos coeficientes para obter um custo menor na próxima iteração.\n",
    "\n",
    "$$\\delta = \\frac{dC(x_i)}{dx_i}$$ \n",
    "\n",
    "Agora que sabemos da derivada em que direção está em declive, podemos atualizar os valores dos coeficientes. Um parâmetro de taxa de aprendizagem (eta - $\\eta$) deve ser especificado e controla o quanto os coeficientes podem mudar em cada atualização.\n",
    "\n",
    "$$C(x_i) = coeficiente – (\\eta * \\delta)$$\n",
    "\n",
    "Este processo é repetido até que o custo dos coeficientes (função de custo) seja 0.0 ou próximo o suficiente de zero, indicando que as saídas da rede estão cada vez mais próximas dos valores reais (saídas desejadas).\n",
    "\n",
    "A Descida do Gradiente é simples, mas exige que seja calculado o gradiente da função de custo ou a função que você está otimizando, mas além disso, é muito direto."
   ]
  },
  {
   "cell_type": "markdown",
   "metadata": {},
   "source": [
    "### Gradiente descendente em lotes\n",
    "\n",
    "O objetivo de todos os algoritmos supervisionados de aprendizagem de máquina é estimar uma função de destino (f) que mapeia dados de entrada (X) para as variáveis de saída (Y). Isso descreve todos os problemas de classificação e regressão (aprendizagem supervisionada).\n",
    "\n",
    "Alguns algoritmos de aprendizagem de máquina têm coeficientes que caracterizam a estimativa de algoritmos para a função alvo (f). Diferentes algoritmos têm diferentes representações e diferentes coeficientes, mas muitos deles requerem um processo de otimização para encontrar o conjunto de coeficientes que resultam na melhor estimativa da função alvo. Os exemplos comuns de algoritmos com coeficientes que podem ser otimizados usando descida do gradiente são Regressão linear e Regressão logística.\n",
    "\n",
    "A avaliação de quão próximo um modelo de aprendizagem de máquina estima a função de destino pode ser calculada de várias maneiras, muitas vezes específicas para o algoritmo de aprendizagem de máquina. A função de custo envolve a avaliação dos coeficientes no modelo de aprendizagem de máquina calculando uma previsão para o modelo para cada instância de treinamento no conjunto de dados e comparando as previsões com os valores de saída reais e calculando uma soma ou erro médio (como a Soma de Residuais Quadrados ou SSR no caso de regressão linear).\n",
    "\n",
    "A partir da função de custo, uma derivada pode ser calculada para cada coeficiente para que ele possa ser atualizado usando exatamente a equação de atualização descrita acima.\n",
    "\n",
    "O custo é calculado para um algoritmo de aprendizado de máquina em todo o conjunto de dados de treinamento para cada iteração do algoritmo de descida de gradiente. Uma iteração do algoritmo é chamada de um lote e esta forma de descida do gradiente é referida como Descida do Gradiente em Lote (Batch Gradient Descent).\n",
    "\n",
    "A descida do gradiente em lote é a forma mais comum de descida do gradiente em Aprendizado de Máquina.\n",
    "\n",
    "### Descida do Gradiente Estocástica\n",
    "\n",
    "A Descida do Gradiente pode ser lenta para executar em conjuntos de dados muito grandes. Como uma iteração do algoritmo de descida do gradiente requer uma previsão para cada instância no conjunto de dados de treinamento, pode demorar muito quando você tem muitos milhões de instâncias.\n",
    "\n",
    "Em situações em que você possui grandes quantidades de dados, você pode usar uma variação da descida do gradiente chamada Stochastic Gradient Descent.\n",
    "\n",
    "Nesta variação, o procedimento de descida do gradiente descrito acima é executado, mas a atualização para os coeficientes é realizada para cada instância de treinamento, em vez do final do lote de instâncias.\n",
    "\n",
    "O primeiro passo do procedimento exige que a ordem do conjunto de dados de treinamento seja randomizada. Isto é, misturar a ordem que as atualizações são feitas para os coeficientes. Como os coeficientes são atualizados após cada instância de treinamento, as atualizações serão ruidosas, saltando por todo o lado, e assim o custo correspondente funcionará. Ao misturar a ordem para as atualizações dos coeficientes, ela aproveita essa caminhada aleatória e evita que ela fique “distraída” ou presa em um mínimo local.\n",
    "\n",
    "O procedimento de atualização para os coeficientes é o mesmo que o anterior, exceto que o custo não é somado em todos os padrões de treinamento, mas sim calculado para um padrão de treinamento.\n",
    "\n",
    "A aprendizagem pode ser muito mais rápida com descida de gradiente estocástica para conjuntos de dados de treinamento muito grandes e muitas vezes você só precisa de um pequeno número de passagens através do conjunto de dados para alcançar um conjunto de coeficientes bom o suficiente."
   ]
  },
  {
   "cell_type": "markdown",
   "metadata": {},
   "source": [
    "# Implementação em Python\n",
    "\n",
    "Depois de toda essa teoria, é hora de ver na prática! Como citamos anteriormente, usaremos a bade de dados MNIST de dígitos nesse exercício. A base contém 60k imagens de treinamento e 10k imagens de teste. Podemos usá-la como está, mas vamos fazer nosso processo de forma um pouco diferente. Vamos dividir as 60k imagens de treinamento em um conjunto de 50k de treino e 10k para validação, que usaremos para validar o resultado e afinar outros parâmetros da rede, como a taxa de aprendizagem.\n",
    "\n",
    "Vamos utilizar o Numpy para lidar com os valores. Comecemos definindo a classe RedeNeural:"
   ]
  },
  {
   "cell_type": "code",
   "execution_count": null,
   "metadata": {},
   "outputs": [],
   "source": []
  },
  {
   "cell_type": "markdown",
   "metadata": {},
   "source": [
    "Neste código, o parâmetro *tamanhos* contêm o número de neurônios nas respectivas camadas, sendo um objeto do tipo lista em Python. Então, por exemplo, se queremos criar um objeto da classe RedeNeural com 2 neurônios na primeira camada, 3 neurônios na segunda camada e 1 neurônio na camada final, aqui está o código que usamos para instanciar um objeto da classe\n",
    "\n",
    "$$rede = RedeNeural([2,3,1])$$"
   ]
  },
  {
   "cell_type": "code",
   "execution_count": null,
   "metadata": {},
   "outputs": [],
   "source": []
  },
  {
   "cell_type": "markdown",
   "metadata": {},
   "source": [
    "Os pesos e bias são inicializados aleatoriamente, usando a função *np.random.randn*, que gera números com distribuição gaussiana com média 0 e desvio padrão 1. Usaremos o algoritmo de descida de gradiente estocástico, usando esse chute inicial aleatório. Observe que a primeira camada não faz nenhuma computação, então não tem nenhum valor de bias.\n",
    "\n",
    "Agora, vamos definir a função de ativação da rede. Usaremos a função sigmoide:"
   ]
  },
  {
   "cell_type": "code",
   "execution_count": null,
   "metadata": {},
   "outputs": [],
   "source": []
  },
  {
   "cell_type": "markdown",
   "metadata": {},
   "source": [
    "Observe que quando a entrada z é um vetor ou uma matriz Numpy, Numpy aplica automaticamente a função sigmoid elementwise, ou seja, na forma vetorizada.\n",
    "\n",
    "Em seguida, adicionamos um método feedforward à classe Network, que, dada a entrada a para a rede, retorna a saída corresponente. Basicamente o método feedforward aplica a Equação 1 mostrada acima, para cada camada:"
   ]
  },
  {
   "cell_type": "code",
   "execution_count": null,
   "metadata": {},
   "outputs": [],
   "source": []
  },
  {
   "cell_type": "markdown",
   "metadata": {},
   "source": [
    "A principal atividade que queremos que nossos objetos da classe Network façam é aprender. Para esse fim, criaremos um método SGD (Stochastic Gradient Descent). Aqui está o código. É um pouco misterioso em alguns lugares, mas vamos explicar em detalhes mais abaixo:"
   ]
  },
  {
   "cell_type": "code",
   "execution_count": null,
   "metadata": {},
   "outputs": [],
   "source": [
    "\n",
    "        "
   ]
  },
  {
   "cell_type": "markdown",
   "metadata": {},
   "source": [
    "O parâmetro *treino* é uma lista de tuplas (x, y) que representam as entradas de treinamento e as correspondentes saídas desejadas. As variáveis *epocas* e *tamanho_lote* são o que você esperaria – o número de épocas para treinar e o tamanho dos mini-lotes a serem usados durante a amostragem, enquanto *eta* é a taxa de aprendizagem, η. Se o argumento opcional *teste* for fornecido, o programa avaliará a rede após cada período de treinamento e imprimirá o progresso parcial. Isso é útil para rastrear o progresso, mas retarda substancialmente as coisas.\n",
    "\n",
    "O código funciona da seguinte forma. Em cada época, ele começa arrastando aleatoriamente os dados de treinamento e, em seguida, particiona-os em mini-lotes de tamanho apropriado. Esta é uma maneira fácil de amostragem aleatória dos dados de treinamento. Então, para cada lote, aplicamos um único passo de descida do gradiente. Isso é feito pelo código *self.atualiza_lote(lote, eta)*, que atualiza os pesos e os bias da rede de acordo com uma única iteração de descida de gradiente, usando apenas os dados de treinamento em mini-lotes. Aqui está o código para o método atualiza_lote:"
   ]
  },
  {
   "cell_type": "code",
   "execution_count": null,
   "metadata": {},
   "outputs": [],
   "source": []
  },
  {
   "cell_type": "markdown",
   "metadata": {},
   "source": [
    "A maior parte do trabalho é feita pela linha delta_nabla_b, delta_nabla_w = self.backprop (x, y). Isso invoca o algoritmo de backpropagation, que é uma maneira rápida de calcular o gradiente da função de custo. Portanto, *atualiza_lote* funciona simplesmente calculando esses gradientes para cada exemplo de treinamento no lote e, em seguida, atualizando *self.pesos* e *self.biases* adequadamente.\n",
    "\n",
    "Abaixo você encontra o código para *self.backprop*, mas não o estudaremos agora. Estudaremos em detalhes como funciona o backpropagation futuramente. Por hora, basta assumir que ele se comporta conforme indicado, retornando o gradiente apropriado para o custo associado ao exemplo de treinamento *x*."
   ]
  },
  {
   "cell_type": "code",
   "execution_count": null,
   "metadata": {},
   "outputs": [],
   "source": []
  },
  {
   "cell_type": "markdown",
   "metadata": {},
   "source": [
    "A classe **RedeNeural** é em essência nosso algoritmo de rede neural. A partir dela criamos uma instância (como rede), alimentamos com os dados de treinamento e realizamos o treinamento. Avaliamos então a performance da rede com dados de teste e repetimos todo o processo até alcançar o nível de acurácia desejado em nosso projeto. Quando o modelo final estiver pronto, usamos para realizar as previsões para as quais o modelo foi criado, apresentando a ele novos conjuntos de dados e extraindo as previsões. Perceba que este é um algoritmo de rede neural bem simples, mas que permite compreender como funcionam as redes neurais e mais tarde,  as redes neurais profundas ou Deep Learning.\n",
    "\n",
    "Para finalizar, vamos adicionar um método para retornar a derivada da sigmóide e os métodos *avalia* e *derivada_custo*."
   ]
  },
  {
   "cell_type": "code",
   "execution_count": null,
   "metadata": {},
   "outputs": [],
   "source": []
  },
  {
   "cell_type": "markdown",
   "metadata": {},
   "source": [
    "Agora, vamos carregar os dados de treinamento, que estão no diretório **data**. Vamos também construir algumas funções auxiliares, para prepará-los no formato que nossa rede aceita."
   ]
  },
  {
   "cell_type": "code",
   "execution_count": null,
   "metadata": {},
   "outputs": [],
   "source": []
  },
  {
   "cell_type": "markdown",
   "metadata": {},
   "source": [
    "Vamos agora dividir nosso conjunto de dados em três partes, um conjunto de treinamento, um de validação e um de teste. Vamos olhar o formato do primeiro elemento, para ver se está da mesma forma que necessitamos."
   ]
  },
  {
   "cell_type": "code",
   "execution_count": null,
   "metadata": {},
   "outputs": [],
   "source": []
  },
  {
   "cell_type": "markdown",
   "metadata": {},
   "source": [
    "Se quisermos visualizar os dados, podemos utilizar a biblioteca Matplotlib para isso."
   ]
  },
  {
   "cell_type": "code",
   "execution_count": null,
   "metadata": {},
   "outputs": [],
   "source": []
  },
  {
   "cell_type": "markdown",
   "metadata": {},
   "source": [
    "Chegou o momento! Vamos construir uma nova rede com as configurações que determinamos no projeto e treiná-la por 100 épocas. Hora de um pouco de paciência..."
   ]
  },
  {
   "cell_type": "code",
   "execution_count": null,
   "metadata": {},
   "outputs": [],
   "source": []
  },
  {
   "cell_type": "markdown",
   "metadata": {},
   "source": [
    "Bom! Agora, podemos testar o desempenho usando nosso conjunto de teste. Vamos limitar o número de casas decimais em 2, para ficar mais fácil de observar. Não se preocupe, é apenas para exibição. O Numpy armazena o número completo, portanto, não há perda de precisão."
   ]
  },
  {
   "cell_type": "code",
   "execution_count": null,
   "metadata": {},
   "outputs": [],
   "source": []
  },
  {
   "cell_type": "markdown",
   "metadata": {},
   "source": [
    "Será que nossa rede está com bom desempenho? Uma das técnicas mais usadas para aferir a qualidade de um classificador é a Matriz de Confusão. Nesta matriz, confrontamos o valor esperado nas linhas com o valor previsto pelo classificador nas colunas. Na diagonal principal, ficam todos os acertos, ou seja, todas as vezes que nosso classificador acertou o dígito. Fora das diagonais, ficam os erros."
   ]
  },
  {
   "cell_type": "code",
   "execution_count": null,
   "metadata": {},
   "outputs": [],
   "source": []
  },
  {
   "cell_type": "markdown",
   "metadata": {},
   "source": [
    "Por fim, vamos calcular um indicador chamado acurácia. A acurácia permite um vislumbre rápido do desempenho do classificador, pois mostra a razão entre o número de acertos e o número total de amostras. Mais cuidado! Apenas a acurácia não permite visualizar corretamente o desempenho do classificador! Outras métricas devem ser usadas em conjunto com ela, para termos uma visão mais completa. Veja a figura. O estudo dessas métricas fica como exercício ;-)\n",
    "\n",
    "![](acc_prec.png)\n",
    "\n",
    "Vamos construir uma função que imprime um relatório com a acurácia calculada para cada classe:"
   ]
  },
  {
   "cell_type": "code",
   "execution_count": null,
   "metadata": {},
   "outputs": [],
   "source": []
  }
 ],
 "metadata": {
  "kernelspec": {
   "display_name": "Python 3",
   "language": "python",
   "name": "python3"
  },
  "language_info": {
   "codemirror_mode": {
    "name": "ipython",
    "version": 3
   },
   "file_extension": ".py",
   "mimetype": "text/x-python",
   "name": "python",
   "nbconvert_exporter": "python",
   "pygments_lexer": "ipython3",
   "version": "3.7.3"
  }
 },
 "nbformat": 4,
 "nbformat_minor": 2
}
